{
 "cells": [
  {
   "cell_type": "markdown",
   "metadata": {},
   "source": [
    "# COGS 108 - Assignment 4: Project Proposal"
   ]
  },
  {
   "cell_type": "markdown",
   "metadata": {},
   "source": [
    "## Important\n",
    "\n",
    "- Make sure all group member (3-5 people) are listed in the group members section.\n",
    "- ONE, and only one, member of your group should upload this notebook to TritonED. \n",
    "- Each member of the group will receive the same grade on this assignment. \n",
    "- Keep the file name the same: submit the file 'A4_ProjectProposal.ipynb'"
   ]
  },
  {
   "cell_type": "markdown",
   "metadata": {},
   "source": [
    "## Overview"
   ]
  },
  {
   "cell_type": "markdown",
   "metadata": {},
   "source": [
    "Read the project description, and detailed instructions for this assignment, in the 'A4_ProjectOutlineAndProposal' pdf."
   ]
  },
  {
   "cell_type": "markdown",
   "metadata": {},
   "source": [
    "## Group Members: Fill in the Student ID's of each group member here\n",
    "- A12209358\n",
    "- A14202007\n",
    "- A12654756"
   ]
  },
  {
   "cell_type": "markdown",
   "metadata": {},
   "source": [
    "### Research Question\n",
    "\n",
    "What is your research question? (1-2 sentences)"
   ]
  },
  {
   "cell_type": "markdown",
   "metadata": {},
   "source": [
    "How do a region’s demographics affect the spread of the flu? "
   ]
  },
  {
   "cell_type": "markdown",
   "metadata": {},
   "source": [
    "### Hypothesis\n",
    "\n",
    "What is your prediction (2-3 sentences)"
   ]
  },
  {
   "cell_type": "markdown",
   "metadata": {},
   "source": [
    "We predict that regions of lower income will have a higher number of serious flu cases. As poorer areas tend to include a greater number of racial minorities, we anticipate more cases within these racial groups. We also predict that people of older age are more susceptible to severe cases of influenza."
   ]
  },
  {
   "cell_type": "markdown",
   "metadata": {},
   "source": [
    "### Dataset(s)\n",
    "\n",
    "What data will you use to answer your question? Describe the dataset in terms of number of observations, what kind of features it contains, etc. You must use at least one dataset containing at least approximately 1000 observations (if your data are smaller but you feel they are sufficient, email Prof. Voytek). You are welcome (and in fact recommended) to find multiple datasets! If you do so, describe each one, and briefly explain how you will combine them together. "
   ]
  },
  {
   "cell_type": "markdown",
   "metadata": {},
   "source": [
    "*Fill in your dataset information here*\n",
    "\n",
    "(Copy this information for each dataset)\n",
    "- Dataset Name: Communicable Diseases (Flu Hospitalizations, Flu EDD)\n",
    "- Link to the dataset:  http://www.sandiegocounty.gov/content/sdc/hhsa/programs/phs/community_health_statistics/regional-community-data.html\n",
    "- Number of observations: 41 (regions)\n",
    "\n",
    "The datasets on Communicable Diseases includes the number of flu hospitalizations and emergency department discharges per geographical area in San Diego. Information on the sex, race, and age range of the patients are also included. \n",
    "\n",
    "- Dataset Name: 2015 Demographic Profiles (Poverty Level, Income and Benefits)\n",
    "- Link to the dataset: http://www.sandiegocounty.gov/content/dam/sdc/hhsa/programs/phs/CHS/demographics/2015_Demographic_Profiles.pdf\n",
    "- Number of observations: 41 (regions)\n",
    "\n",
    "The datasets on Demographic Profiles include, per geographical area in San Diego County, the percentage of the population that is below the Federal Poverty Level, the total number of households, and the average household income. \n",
    "\n",
    "We plan to combine these data sets by geographical region in San Diego. To do this we will compress hospitals of similar regions into one."
   ]
  },
  {
   "cell_type": "markdown",
   "metadata": {},
   "source": [
    "### Background & Prior Work\n",
    "\n",
    "Why is this question of interest, what background information led you to your hypothesis, and why is this important?\n",
    "\n",
    "Find some relevant prior work, and reference them. Even if you think you have a totally novel question, find the most similar prior work you can, and discuss how it relates to your project. \n",
    "\n",
    "References can be research publications, but they need not be: blogs, github repositories, company websites, etc., are viable references if they are relevant to your project.\n",
    "\n",
    "(2-3 paragraphs, including at least 2 references)"
   ]
  },
  {
   "cell_type": "markdown",
   "metadata": {},
   "source": [
    "For most people, getting the flu means congestion, coughing, and bed-ridden fatigue for up to a week or two. The advent of modern medicine has reduced the illness from a lethal plague to a mere inconvenience. However, most of modern society has little fear for the flu, the illness still claims the lives of a surprising number of the population each year, which begs the question of how such a typically trivial ailment could have such serious effects on some. What separates those unlucky few from the rest?\n",
    "\n",
    "This past flu season, San Diego County recorded a staggering 85 influenza-related deaths along with 105 influenza-related ICU cases (HSSA). Our group was curious to see if a socioeconomic pattern might exist between these cases.\n",
    "If the data reveals that these occurrences are segregated to a particular demographic of people, the cause of the problem may be much more easily diagnosed and even prevented, by providing the proper aid to that demographic.\n",
    "\n",
    "A study by the Yale School of Public Health found that “residents of neighborhoods with high number of people living below the poverty line are twice as likely to be hospitalized for influenza” (Meyer). While their study is very similar to ours, the Yale School primarily studied a Connecticut site which differs from San Diego in a number of parameters including demographic distribution and climate. If our analysis yields a similar result, Yale School’s findings would support our hypothesis that higher flu mortality is linked to lower income regions, irrespective of race or weather variables.\n",
    "\n",
    "Referencess (include a link):\n",
    "- 1)\"Influenza Watch.\" County of San Diego. Human and Health Services Agency (HSSA), 17 Apr. 2017. Web.\n",
    "http://www.sandiegocounty.gov/content/dam/sdc/hhsa/programs/phs/documents/InfluenzaWatch.pdf\n",
    "- 2)Meyer, Denise L. \"Flu Hits America’s Poor Hardest, Study Finds.\" Yale School of Public Health. Yale School of Public Health, 25 Feb. 2016. Web. 20 May 2017.\n",
    "https://publichealth.yale.edu/news/article.aspx?id=12189\n",
    "\n"
   ]
  },
  {
   "cell_type": "markdown",
   "metadata": {},
   "source": [
    "### Proposed Methods\n",
    "\n",
    "What methods will you use to analyze your data?\n",
    "\n",
    "- How 'clean' is the data? To the extent that it requires cleaning, how will you do so?\n",
    "- How will you analyze the data? Be as specific as you can. Briefly mention any pre-processing steps that are required for your methods (for example, checking data distributions and performing any transformations that may be required). Include a brief outline of how you will apply your chosen method(s). \n",
    "- What do you plan to report? Briefly mention any key visualizations you plan to create, and/or the kind of result you will be able to report that addresses your question (this could be, for example, the outcome of some statistical test(s), prediction error on a model, a model fit parameter, etc.).\n",
    "- Include a list of packages you expect to use for you project. If you plan to use packages we have not used in class, add a very brief description about them (a few words is sufficient). "
   ]
  },
  {
   "cell_type": "markdown",
   "metadata": {},
   "source": [
    "*Fill in your proposed methods information here:*\n",
    "\n",
    "*Data Cleaning (2-3 sentences)*\n",
    "\n",
    "The data we have shows deceased, discharged, and hospitalized patients diagnosed with the flu. We want the total number of people diagnosed, to get this we have to combine the three data sets and drop all the Nan variables in the resulting data frame. We will also reduce the dimension of the data set by removing the rows that are not needed for this research project and just keep the features that are viable. \n",
    "\n",
    "*Data Analysis (1-2 paragraphs)*\n",
    "\n",
    "To analyze the data for our research question, we will pull out the data we will use such as number of flu cases, age, gender, and economic background. Utilizing the pandas library, we will compress the total number of flu cases into regions from specific hospitals. To extract how many males and females there are in the datasets we can use the method value_counts from pandas library. Knowing how many males and females there are in the data can help find other possible correlations. Importing matplotlib.pyplot can help us plot and visualize the data and make it easier for us to find a pattern.\n",
    "\n",
    "*What to report (2-3 sentences)*\n",
    "\n",
    "A histogram displaying the frequency of those diagnosed with the flu in relation to the average income of an area. Use linear regression on points plotted between a district’s average income and the average number of people inflicted there. We expect to find a strong, positive correlation which will backup our prediction using Pearson’s coefficient.\n",
    "\n",
    "Packages we plan to use:\n",
    "-a Pandas library \n",
    "-b matplotlib.pyplot\n",
    "-c  Numpy\n",
    "-d  patsy \n",
    "-e  statsmodel.api"
   ]
  },
  {
   "cell_type": "markdown",
   "metadata": {},
   "source": [
    "### Discussion\n",
    "\n",
    "What are the pitfalls and potential confounds of your data and/or methods? For example, how might biases in your data sources or analyses influence your interpretations? What will you do if you methods don't work and/or your hypotheses are wrong?\n",
    "\n",
    "(2-3 paragraphs)"
   ]
  },
  {
   "cell_type": "markdown",
   "metadata": {},
   "source": [
    "One of the problems we anticipate for this research project is analyzing our results and making sure that we distinguish the difference between a causation and correlation. Using a statistical test should help us eliminate this problem. If our methods fail we will try to figure out what the problem is ourselves. If we still cannot figure out the problem, we will consult with our TAs to help us find an alternative way to analyze our data sets.\n",
    "\n",
    "As for confounds, finding a relation between income and spread of communicable diseases in a region could simply mean that communicable diseases are more common where there is a greater population. This seems rather obvious. There may be a third variable problem relating income and population; areas with greater income possibly have fewer people (at least in San Diego) and therefore fewer diseases. On top of this, even though we primarily believe the cause to be worse living conditions in general, a huge contributing factor may be the inability to afford flu shots or health care which would help prevent the flu from worsening and spreading.\n",
    "\n",
    "We will do our best not to be biased so that the way the data is interpreted is not influenced. If biases do however influence the data, they would cause us to ignore the option that there are other reasons which come from a neighborhood’s wealth. So, if it turns out our hypothesis follows, we will make sure to find any other possible reasons for the result and make sure they at least support our claim."
   ]
  }
 ],
 "metadata": {
  "kernelspec": {
   "display_name": "Python 3",
   "language": "python",
   "name": "python3"
  },
  "language_info": {
   "codemirror_mode": {
    "name": "ipython",
    "version": 3
   },
   "file_extension": ".py",
   "mimetype": "text/x-python",
   "name": "python",
   "nbconvert_exporter": "python",
   "pygments_lexer": "ipython3",
   "version": "3.6.0"
  }
 },
 "nbformat": 4,
 "nbformat_minor": 2
}
